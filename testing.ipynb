{
 "cells": [
  {
   "cell_type": "code",
   "execution_count": 1,
   "id": "06ad64af-f5fe-42a4-b5a1-de9238780cc3",
   "metadata": {},
   "outputs": [
    {
     "name": "stderr",
     "output_type": "stream",
     "text": [
      "/mnt/d/gery/clip/lib/python3.12/site-packages/tqdm/auto.py:21: TqdmWarning: IProgress not found. Please update jupyter and ipywidgets. See https://ipywidgets.readthedocs.io/en/stable/user_install.html\n",
      "  from .autonotebook import tqdm as notebook_tqdm\n"
     ]
    }
   ],
   "source": [
    "import torch\n",
    "import numpy as np\n",
    "import requests\n",
    "from PIL import Image\n",
    "from transformers import CLIPProcessor, CLIPModel"
   ]
  },
  {
   "cell_type": "code",
   "execution_count": 2,
   "id": "b3aff8ce-a3f0-4082-ac4f-09a519ecf1f0",
   "metadata": {},
   "outputs": [
    {
     "name": "stdout",
     "output_type": "stream",
     "text": [
      "Using device: cuda\n",
      "Probability of cat: 0.995\n",
      "Probability of dog: 0.005\n"
     ]
    }
   ],
   "source": [
    "def load_image(url):\n",
    "    try:\n",
    "        return Image.open(requests.get(url, stream=True).raw).convert('RGB')\n",
    "    except Exception as e:\n",
    "        raise Exception(f\"Error loading image: {str(e)}\")\n",
    "\n",
    "def setup_model(device=\"cuda\" if torch.cuda.is_available() else \"cpu\"):\n",
    "    try:\n",
    "        model = CLIPModel.from_pretrained(\n",
    "            \"openai/clip-vit-base-patch32\",\n",
    "            device_map=device,\n",
    "            torch_dtype=torch.float16 if device == \"cuda\" else torch.float32,\n",
    "        )\n",
    "        processor = CLIPProcessor.from_pretrained(\"openai/clip-vit-base-patch32\")\n",
    "        return model, processor\n",
    "    except Exception as e:\n",
    "        raise Exception(f\"Error setting up model: {str(e)}\")\n",
    "\n",
    "def process_image(image, processor, model, device):\n",
    "    try:\n",
    "        # Process inputs\n",
    "        inputs = processor(\n",
    "            text=[\"a photo of a cat\", \"a photo of a dog\"],\n",
    "            images=[image],\n",
    "            return_tensors=\"pt\",\n",
    "            padding=True\n",
    "        )\n",
    "        \n",
    "        # Move inputs to device\n",
    "        inputs = {k: v.to(device) for k, v in inputs.items()}\n",
    "        \n",
    "        # Get predictions\n",
    "        with torch.no_grad():\n",
    "            outputs = model(**inputs)\n",
    "            \n",
    "        logits_per_image = outputs.logits_per_image\n",
    "        probs = logits_per_image.softmax(dim=1)\n",
    "        return probs\n",
    "    except Exception as e:\n",
    "        raise Exception(f\"Error processing image: {str(e)}\")\n",
    "\n",
    "def main():\n",
    "    # Setup device\n",
    "    device = \"cuda\" if torch.cuda.is_available() else \"cpu\"\n",
    "    print(f\"Using device: {device}\")\n",
    "    \n",
    "    # Load model and processor\n",
    "    model, processor = setup_model(device)\n",
    "    \n",
    "    # Load and process image\n",
    "    url = \"http://images.cocodataset.org/val2017/000000039769.jpg\"\n",
    "    image = load_image(url)\n",
    "    \n",
    "    # Get predictions\n",
    "    probs = process_image(image, processor, model, device)\n",
    "    \n",
    "    # Print results\n",
    "    labels = [\"cat\", \"dog\"]\n",
    "    for i, label in enumerate(labels):\n",
    "        print(f\"Probability of {label}: {probs[0][i].item():.3f}\")\n",
    "\n",
    "if __name__ == \"__main__\":\n",
    "    main()"
   ]
  },
  {
   "cell_type": "code",
   "execution_count": null,
   "id": "e32569c7-6a79-450c-86be-2ce6a6f296d6",
   "metadata": {},
   "outputs": [],
   "source": []
  }
 ],
 "metadata": {
  "kernelspec": {
   "display_name": "Python 3 (ipykernel)",
   "language": "python",
   "name": "python3"
  },
  "language_info": {
   "codemirror_mode": {
    "name": "ipython",
    "version": 3
   },
   "file_extension": ".py",
   "mimetype": "text/x-python",
   "name": "python",
   "nbconvert_exporter": "python",
   "pygments_lexer": "ipython3",
   "version": "3.12.3"
  }
 },
 "nbformat": 4,
 "nbformat_minor": 5
}
